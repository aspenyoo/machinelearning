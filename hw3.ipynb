{
 "cells": [
  {
   "cell_type": "code",
   "execution_count": 301,
   "metadata": {
    "collapsed": true
   },
   "outputs": [],
   "source": [
    "import numpy as np\n",
    "import matplotlib.pyplot as plt\n",
    "from load import *\n",
    "import os\n",
    "import pickle\n",
    "import random\n",
    "from collections import Counter\n",
    "import util"
   ]
  },
  {
   "cell_type": "code",
   "execution_count": 95,
   "metadata": {
    "collapsed": true
   },
   "outputs": [],
   "source": [
    "def folder_list(path,label):\n",
    "    '''\n",
    "    FOLDER_LIST(PATH,LABEL) appends label at the end of review \n",
    "    \n",
    "    ---- input variables ----\n",
    "    PATH: path of local folder\n",
    "    LABEL: the label (-1 for negative or 1 for positive reviews)\n",
    "    \n",
    "    ---- output variable ----\n",
    "    REVIEW: appended review\n",
    "    '''\n",
    "    \n",
    "    filelist = os.listdir(path)\n",
    "    review = []\n",
    "    for infile in filelist:\n",
    "        file = os.path.join(path,infile)\n",
    "        r = read_data(file)\n",
    "        r.append(label)\n",
    "        review.append(r)\n",
    "    return review"
   ]
  },
  {
   "cell_type": "code",
   "execution_count": 96,
   "metadata": {
    "collapsed": true
   },
   "outputs": [],
   "source": [
    "def read_data(file):\n",
    "    '''\n",
    "    Read each file into a list of strings. \n",
    "    Example:\n",
    "    [\"it's\", 'a', 'curious', 'thing', \"i've\", 'found', 'that', 'when', 'willis', 'is', 'not', 'called', 'on', \n",
    "    ...'to', 'carry', 'the', 'whole', 'movie', \"he's\", 'much', 'better', 'and', 'so', 'is', 'the', 'movie']\n",
    "    '''\n",
    "    f = open(file)\n",
    "    lines = f.read().split(' ')\n",
    "    symbols = '${}()[].,:;+-*/&|<>=~\" '\n",
    "    #words = map(lambda Element: Element.translate(None, symbols).strip(), lines)\n",
    "    words = map(lambda Element: Element.translate(str.maketrans(\"\",\"\",symbols)).strip(), lines)\n",
    "    words = list(words)\n",
    "    #words = list(filter(None, words))\n",
    "    return words"
   ]
  },
  {
   "cell_type": "code",
   "execution_count": 377,
   "metadata": {
    "collapsed": false
   },
   "outputs": [],
   "source": [
    "def normalize_data(data):\n",
    "    '''\n",
    "    NOT COMPLETE!!!!\n",
    "    input: bag of words representation of data\n",
    "    '''\n",
    "    \n",
    "    # get max of each word\n",
    "    feature_vec = Counter()\n",
    "    for i in range(len(data)):\n",
    "        feature_vec = feature_vec | data[i]\n",
    "\n",
    "        \n",
    "    for f in feature_vec:\n",
    "        \n",
    "    \n",
    "    return feature_vec"
   ]
  },
  {
   "cell_type": "code",
   "execution_count": 403,
   "metadata": {
    "collapsed": false
   },
   "outputs": [
    {
     "ename": "AttributeError",
     "evalue": "'filter' object has no attribute 'append'",
     "output_type": "error",
     "traceback": [
      "\u001b[0;31m---------------------------------------------------------------------------\u001b[0m",
      "\u001b[0;31mAttributeError\u001b[0m                            Traceback (most recent call last)",
      "\u001b[0;32m<ipython-input-403-33736de5c703>\u001b[0m in \u001b[0;36m<module>\u001b[0;34m()\u001b[0m\n\u001b[1;32m      2\u001b[0m \u001b[0mneg_path\u001b[0m \u001b[0;34m=\u001b[0m \u001b[0;34m\"data/neg\"\u001b[0m\u001b[0;34m\u001b[0m\u001b[0m\n\u001b[1;32m      3\u001b[0m \u001b[0;34m\u001b[0m\u001b[0m\n\u001b[0;32m----> 4\u001b[0;31m \u001b[0mpos_review\u001b[0m \u001b[0;34m=\u001b[0m \u001b[0mfolder_list\u001b[0m\u001b[0;34m(\u001b[0m\u001b[0mpos_path\u001b[0m\u001b[0;34m,\u001b[0m\u001b[0;36m1\u001b[0m\u001b[0;34m)\u001b[0m\u001b[0;34m\u001b[0m\u001b[0m\n\u001b[0m\u001b[1;32m      5\u001b[0m \u001b[0mneg_review\u001b[0m \u001b[0;34m=\u001b[0m \u001b[0mfolder_list\u001b[0m\u001b[0;34m(\u001b[0m\u001b[0mneg_path\u001b[0m\u001b[0;34m,\u001b[0m\u001b[0;34m-\u001b[0m\u001b[0;36m1\u001b[0m\u001b[0;34m)\u001b[0m\u001b[0;34m\u001b[0m\u001b[0m\n\u001b[1;32m      6\u001b[0m \u001b[0;34m\u001b[0m\u001b[0m\n",
      "\u001b[0;32m~/Google Drive/Courses/Machine Learning/hw/hw3-svm/load.py\u001b[0m in \u001b[0;36mfolder_list\u001b[0;34m(path, label)\u001b[0m\n\u001b[1;32m     18\u001b[0m         \u001b[0mfile\u001b[0m \u001b[0;34m=\u001b[0m \u001b[0mos\u001b[0m\u001b[0;34m.\u001b[0m\u001b[0mpath\u001b[0m\u001b[0;34m.\u001b[0m\u001b[0mjoin\u001b[0m\u001b[0;34m(\u001b[0m\u001b[0mpath\u001b[0m\u001b[0;34m,\u001b[0m\u001b[0minfile\u001b[0m\u001b[0;34m)\u001b[0m\u001b[0;34m\u001b[0m\u001b[0m\n\u001b[1;32m     19\u001b[0m         \u001b[0mr\u001b[0m \u001b[0;34m=\u001b[0m \u001b[0mread_data\u001b[0m\u001b[0;34m(\u001b[0m\u001b[0mfile\u001b[0m\u001b[0;34m)\u001b[0m\u001b[0;34m\u001b[0m\u001b[0m\n\u001b[0;32m---> 20\u001b[0;31m         \u001b[0mr\u001b[0m\u001b[0;34m.\u001b[0m\u001b[0mappend\u001b[0m\u001b[0;34m(\u001b[0m\u001b[0mlabel\u001b[0m\u001b[0;34m)\u001b[0m\u001b[0;34m\u001b[0m\u001b[0m\n\u001b[0m\u001b[1;32m     21\u001b[0m         \u001b[0mreview\u001b[0m\u001b[0;34m.\u001b[0m\u001b[0mappend\u001b[0m\u001b[0;34m(\u001b[0m\u001b[0mr\u001b[0m\u001b[0;34m)\u001b[0m\u001b[0;34m\u001b[0m\u001b[0m\n\u001b[1;32m     22\u001b[0m     \u001b[0;32mreturn\u001b[0m \u001b[0mreview\u001b[0m\u001b[0;34m\u001b[0m\u001b[0m\n",
      "\u001b[0;31mAttributeError\u001b[0m: 'filter' object has no attribute 'append'"
     ]
    }
   ],
   "source": [
    "pos_path = \"data/pos\"\n",
    "neg_path = \"data/neg\"\n",
    "\n",
    "pos_review = folder_list(pos_path,1)\n",
    "neg_review = folder_list(neg_path,-1)\n",
    "\n",
    "review = pos_review + neg_review\n",
    "random.shuffle(review)\n",
    "\n",
    "# normalize features\n",
    "\n",
    "# splitting into 1500 training and 500 testing\n",
    "data_train = review[0:1500]\n",
    "data_test = review[1500:2001]\n",
    "\n",
    "value_train = review"
   ]
  },
  {
   "cell_type": "code",
   "execution_count": 501,
   "metadata": {
    "collapsed": true
   },
   "outputs": [],
   "source": [
    "# getting data strings into bag of words representation\n",
    "data_train_bag = bag_of_words(data_train)\n",
    "data_test_bag = bag_of_words(data_test)\n",
    "\n",
    "# get values of train and test\n",
    "value_train = []\n",
    "value_test = []\n",
    "for i in range(1500):\n",
    "    value_train.append(review[i][-1])\n",
    "    \n",
    "for i in range(500):\n",
    "    value_test.append(review[1500+i][-1])"
   ]
  },
  {
   "cell_type": "code",
   "execution_count": 97,
   "metadata": {
    "collapsed": true
   },
   "outputs": [],
   "source": [
    "def bag_of_words(data):\n",
    "    '''\n",
    "    BAG_OF_WORDS(DATA) takes list of strings and calculates frequency of each word\n",
    "    '''\n",
    "    \n",
    "    bag_data = [];\n",
    "    for i_data in range(len(data)):\n",
    "        bag_data.append(Counter(data[i_data][0:-1])) # not last entry bc that is label\n",
    "        bag_label.append(data)\n",
    "    return bag_data, bag_label\n",
    "        "
   ]
  },
  {
   "cell_type": "code",
   "execution_count": 215,
   "metadata": {
    "collapsed": false
   },
   "outputs": [],
   "source": [
    "def pegasos(X,y,lambdaa):\n",
    "    w = Counter() # setting empty counter\n",
    "    t = 1\n",
    "    i_iter = 0\n",
    "    while i_iter < 10:\n",
    "        for j in range(len(y)):\n",
    "            t = t + 1\n",
    "            eta = 1/(lambdaa*t)\n",
    "\n",
    "            scale(w,(1-eta*lambdaa))\n",
    "            if y[j]*util.dotProduct(w,X[j]) < 1:\n",
    "                util.increment(w, eta*y[j], X[j]) # update weights\n",
    "\n",
    "        i_iter = i_iter + 1\n",
    "    \n",
    "    return w"
   ]
  },
  {
   "cell_type": "code",
   "execution_count": 297,
   "metadata": {
    "collapsed": false
   },
   "outputs": [],
   "source": [
    "def fast_pegasos(X,y,lambdaa,n_epochs = 40):\n",
    "    W = Counter() # initializing empty counter\n",
    "    t = 1\n",
    "    s = 1\n",
    "    i_iter = 0\n",
    "    \n",
    "    while i_iter < n_epochs:\n",
    "        for j in range(len(y)):\n",
    "            t = t + 1\n",
    "            eta = 1/(lambdaa*t)\n",
    "\n",
    "            s = (1-1/t)*s\n",
    "            \n",
    "            if s*y[j]*util.dotProduct(W,X[j]) < 1:\n",
    "                util.increment(W,(1/s)*eta*y[j],X[j])\n",
    "\n",
    "        i_iter = i_iter + 1\n",
    "    \n",
    "    for f, v in W.items():\n",
    "        w[f] = W.get(f, 0)*s\n",
    "        \n",
    "    return w"
   ]
  },
  {
   "cell_type": "code",
   "execution_count": 216,
   "metadata": {
    "collapsed": false
   },
   "outputs": [],
   "source": [
    "def scale(x,multiple):\n",
    "    for f,v in x.items():\n",
    "        x[f] = x.get(f, 0) * multiple "
   ]
  },
  {
   "cell_type": "code",
   "execution_count": 310,
   "metadata": {
    "collapsed": true
   },
   "outputs": [],
   "source": [
    "def calc_loss(X,y,w):\n",
    "    prediction = []\n",
    "    for i in range(len(y)):\n",
    "        prediction.append(dotProduct(w,X[i]))\n",
    "    prediction = np.sign(prediction)\n",
    "    \n",
    "    loss = sum(y != prediction)/len(y)\n",
    "    return loss"
   ]
  },
  {
   "cell_type": "code",
   "execution_count": 241,
   "metadata": {
    "collapsed": false
   },
   "outputs": [
    {
     "name": "stdout",
     "output_type": "stream",
     "text": [
      "--- 263.99919390678406 seconds ---\n",
      "--- 3.9446849822998047 seconds ---\n"
     ]
    }
   ],
   "source": [
    "# checking timing and also checking that the two ways get same results\n",
    "\n",
    "import time\n",
    "start_time = time.time()\n",
    "w = pegasos(data_train_bag,value_train,1)\n",
    "t1 = time.time() - start_time\n",
    "print(\"--- %s seconds ---\" % (t1))\n",
    "\n",
    "start_time = time.time()\n",
    "w2 = fast_pegasos(data_train_bag,value_train,1)\n",
    "t2 = time.time() - start_time\n",
    "print(\"--- %s seconds ---\" % (t2))\n",
    "\n",
    "blah = []\n",
    "for f, v in w.items():\n",
    "    blah.append(w.get(f,0) - w2.get(f,0))"
   ]
  },
  {
   "cell_type": "code",
   "execution_count": 317,
   "metadata": {
    "collapsed": false
   },
   "outputs": [
    {
     "name": "stdout",
     "output_type": "stream",
     "text": [
      "0.001\n",
      "0.002\n",
      "0.003\n",
      "0.004\n",
      "0.005\n",
      "0.006\n",
      "0.007\n",
      "0.008\n",
      "0.009\n",
      "0.01\n"
     ]
    }
   ],
   "source": [
    "# 6.8: PICKING A REGULARIZATION TERM\n",
    "\n",
    "#param_grid = np.unique(np.concatenate((10.**np.arange(-6,1,1),np.arange(1,3,.3))))\n",
    "#param_grid = 10.**np.linspace(-3,-1,10)\n",
    "param_grid = np.linspace(.001,.01,10)\n",
    "\n",
    "train_loss = []\n",
    "test_loss = []\n",
    "for i_param in range(len(param_grid)):\n",
    "    lambdaa = param_grid[i_param]\n",
    "    print(lambdaa)\n",
    "    \n",
    "    w = fast_pegasos(data_train_bag,value_train,lambdaa,convergence_criteria = .90)\n",
    "    train_loss.append(calc_loss(data_train_bag,value_train,w))\n",
    "    test_loss.append(calc_loss(data_test_bag,value_test,w))"
   ]
  },
  {
   "cell_type": "code",
   "execution_count": 320,
   "metadata": {
    "collapsed": false
   },
   "outputs": [
    {
     "data": {
      "image/png": "[encoded data removed]",
      "text/plain": [
       "<matplotlib.figure.Figure at 0x106580630>"
      ]
     },
     "metadata": {},
     "output_type": "display_data"
    }
   ],
   "source": [
    "# plot training loss\n",
    "plt.plot(param_grid,train_loss,label = 'training loss')\n",
    "plt.plot(param_grid,test_loss,label = 'val loss')\n",
    "plt.xlabel('$log_{10} \\lambda$')\n",
    "plt.legend()\n",
    "plt.show()"
   ]
  },
  {
   "cell_type": "code",
   "execution_count": 323,
   "metadata": {
    "collapsed": true
   },
   "outputs": [],
   "source": [
    "# get weights for lambda of choice\n",
    "\n",
    "lambdaa = .008\n",
    "w = fast_pegasos(data_train_bag,value_train,lambdaa)"
   ]
  },
  {
   "cell_type": "code",
   "execution_count": 503,
   "metadata": {
    "collapsed": false,
    "scrolled": true
   },
   "outputs": [
    {
     "data": {
      "text/plain": [
       "[('the', 9.991500141664202),\n",
       " ('and', 7.466542224296169),\n",
       " ('to', 6.037399376676918),\n",
       " ('', 5.993650105831394),\n",
       " ('i', 5.549907501541558),\n",
       " ('no', 5.133247779203624),\n",
       " ('movie', 4.949917501374959),\n",
       " ('any', 3.318694688421857),\n",
       " ('seen', 3.124947917534694),\n",
       " ('on', 3.099948334194403),\n",
       " ('see', 3.0749487508541398),\n",
       " ('this', 3.0124497925034044),\n",
       " ('could', 2.8437026049565866),\n",
       " ('that', 2.5999566673889127),\n",
       " ('bad', 2.5728737854368924),\n",
       " ('you', 2.299961667305543),\n",
       " ('at', 2.2603789936834158),\n",
       " ('times', 2.243712604789914),\n",
       " ('so', 2.2395460075665437),\n",
       " ('there', 2.116631389476837)]"
      ]
     },
     "execution_count": 503,
     "metadata": {},
     "output_type": "execute_result"
    }
   ],
   "source": [
    "# 7: ERROR ANALYSIS\n",
    "\n",
    "# find a problem that I got wrong. \n",
    "i = 0\n",
    "idx = 0\n",
    "idx_stop = 1\n",
    "correct = True\n",
    "while correct:\n",
    "    prediction = dotProduct(w,data_test_bag[i])\n",
    "    prediction = np.sign(prediction)\n",
    "    correct = value_test[i] == prediction\n",
    "    if ~correct:\n",
    "        idx = idx + 1\n",
    "        if idx_stop > idx:\n",
    "            correct = True\n",
    "    i = i + 1\n",
    "i = i - 1\n",
    "\n",
    "# get vector of weights\n",
    "contributions = {}\n",
    "for f,v in data_test_bag[i].items():\n",
    "    contributions[f] = abs(v*w.get(f,0))\n",
    "\n",
    "contributions = Counter(contributions)\n",
    "    \n",
    "ww = np.empty([20,1])\n",
    "vv = np.empty([20,1])\n",
    "j = 0\n",
    "for f,v in contributions.most_common(20):\n",
    "    ww[j] = w.get(f,0)\n",
    "    vv[j] = data_test_bag[i].get(f,0)\n",
    "    j = j + 1\n",
    "\n",
    "    \n",
    "# print top contributions\n",
    "contributions.most_common(20)\n",
    "\n"
   ]
  },
  {
   "cell_type": "code",
   "execution_count": 483,
   "metadata": {
    "collapsed": false,
    "scrolled": true
   },
   "outputs": [
    {
     "name": "stdout",
     "output_type": "stream",
     "text": [
      "-1.0\n",
      "1\n",
      "[[-0.33541108]\n",
      " [ 0.22707955]\n",
      " [ 0.46665889]\n",
      " [-0.76457059]\n",
      " [-1.00414993]\n",
      " [-0.96456726]\n",
      " [-0.04374927]\n",
      " [-1.14373094]\n",
      " [ 0.47707538]\n",
      " [-2.57287379]\n",
      " [ 0.32082799]\n",
      " [ 0.76665389]\n",
      " [-0.51665806]\n",
      " [-0.61873969]\n",
      " [ 0.54165764]\n",
      " [ 0.80831986]\n",
      " [ 0.79582007]\n",
      " [ 0.7479042 ]\n",
      " [-0.36457726]\n",
      " [ 0.70832153]]\n",
      "[[ 18.]\n",
      " [ 26.]\n",
      " [ 12.]\n",
      " [  7.]\n",
      " [  5.]\n",
      " [  5.]\n",
      " [ 81.]\n",
      " [  3.]\n",
      " [  7.]\n",
      " [  1.]\n",
      " [  8.]\n",
      " [  3.]\n",
      " [  4.]\n",
      " [  3.]\n",
      " [  3.]\n",
      " [  2.]\n",
      " [  2.]\n",
      " [  2.]\n",
      " [  4.]\n",
      " [  2.]]\n"
     ]
    }
   ],
   "source": [
    "print(prediction)\n",
    "print(value_test[i])\n",
    "print(ww)\n",
    "print(vv)"
   ]
  },
  {
   "cell_type": "code",
   "execution_count": 505,
   "metadata": {
    "collapsed": false
   },
   "outputs": [
    {
     "name": "stdout",
     "output_type": "stream",
     "text": [
      "the\n",
      "63\n",
      "63\n",
      "and\n",
      "20\n",
      "20\n",
      " \n",
      "0\n",
      "0\n",
      "at\n",
      "5\n",
      "5\n",
      "to\n",
      "13\n",
      "13\n",
      "-13.0180687465\n",
      "-13.0180687465\n"
     ]
    }
   ],
   "source": [
    "# delete common words see if prediction is better\n",
    "# THIS CODE IS BUGGY BC IT CHANGES ORIGINAL VARIABLE AS WELL\n",
    "delete_vec = ['the','and',' ','at','to']\n",
    "idx = 20\n",
    "\n",
    "blah = data_test_bag[idx]\n",
    "for v in delete_vec:\n",
    "    print(v)\n",
    "    print(blah[v])\n",
    "    print(blah.get(v,0))\n",
    "    blah[v] = blah.get(v,0)*0\n",
    "    \n",
    "ogpred = dotProduct(w,data_test_bag[idx])\n",
    "pred = dotProduct(w,blah)\n",
    "\n",
    "print(ogpred)\n",
    "print(pred)"
   ]
  },
  {
   "cell_type": "code",
   "execution_count": 595,
   "metadata": {
    "collapsed": false
   },
   "outputs": [],
   "source": [
    "# 6.9 CORRELATION BETWEEN SCORE (CONFIDENCE) AND ACCURACY\n",
    "y = value_test\n",
    "X = data_test_bag\n",
    "n_bins = 30\n",
    "\n",
    "# calculate score for each\n",
    "score = []\n",
    "for i in range(len(y)):\n",
    "    score.append(dotProduct(w,X[i]))\n",
    "\n",
    "# sorting by margin\n",
    "blah = np.transpose(np.reshape(np.concatenate([score,y]),[2,len(y)])) # make len(y) x 2 array\n",
    "blah[blah[:,0].argsort(),] # sorting by first column\n",
    "\n",
    "#put data into bins and get means of each bin\n",
    "score_vec = []\n",
    "value_vec = []\n",
    "perc_correct_vec = []\n",
    "bin_edges = np.round(np.linspace(0,len(y),n_bins+1))\n",
    "for i_bin in range(n_bins):\n",
    "    data = blah[int(bin_edges[i_bin]):int(bin_edges[i_bin+1])]\n",
    "    score_vec.append(np.mean(data[:,0]))\n",
    "    value_vec.append(np.mean(data[:,1]))\n",
    "    perc_correct_vec.append(sum(np.sign(data[:,0])==data[:,1])/(bin_edges[i_bin+1]-bin_edges[i_bin]))"
   ]
  },
  {
   "cell_type": "code",
   "execution_count": 598,
   "metadata": {
    "collapsed": false
   },
   "outputs": [
    {
     "data": {
      "image/png": "[encoded data removed]",
      "text/plain": [
       "<matplotlib.figure.Figure at 0x10606b978>"
      ]
     },
     "metadata": {},
     "output_type": "display_data"
    },
    {
     "data": {
      "image/png": "[encoded data removed]",
      "text/plain": [
       "<matplotlib.figure.Figure at 0x10e673a58>"
      ]
     },
     "metadata": {},
     "output_type": "display_data"
    }
   ],
   "source": [
    "# plot these\n",
    "plt.plot(score_vec,perc_correct_vec,'o',markersize = 10)\n",
    "plt.xlabel('score')\n",
    "plt.ylabel('percent correct classification')\n",
    "plt.show()\n",
    "\n",
    "plt.plot(score_vec,value_vec,'o',markersize = 10)\n",
    "plt.xlabel('score')\n",
    "plt.ylabel('mean value')\n",
    "plt.show()"
   ]
  },
  {
   "cell_type": "code",
   "execution_count": 608,
   "metadata": {
    "collapsed": false
   },
   "outputs": [],
   "source": [
    "#6.10 IS YWX=1 EVEN A BIG DEAL?\n",
    "score = np.array(score) # so that i can subtract 1 from every element in it\n",
    "epsilon_vec = [1,.5,.1,.05,.01]\n",
    "\n",
    "ones_vec = []\n",
    "for i_epsilon in range(len(epsilon_vec)):\n",
    "    epsilon = epsilon_vec[i_epsilon]\n",
    "    ones_vec.append(sum(abs(score - 1) < epsilon))\n"
   ]
  },
  {
   "cell_type": "code",
   "execution_count": 611,
   "metadata": {
    "collapsed": false
   },
   "outputs": [
    {
     "data": {
      "text/plain": [
       "array([ 0.04 ,  0.024,  0.002,  0.   ,  0.   ])"
      ]
     },
     "execution_count": 611,
     "metadata": {},
     "output_type": "execute_result"
    }
   ],
   "source": [
    "np.array(ones_vec)/500"
   ]
  }
 ],
 "metadata": {
  "kernelspec": {
   "display_name": "Python 3",
   "language": "python",
   "name": "python3"
  },
  "language_info": {
   "codemirror_mode": {
    "name": "ipython",
    "version": 3
   },
   "file_extension": ".py",
   "mimetype": "text/x-python",
   "name": "python",
   "nbconvert_exporter": "python",
   "pygments_lexer": "ipython3",
   "version": "3.6.0"
  }
 },
 "nbformat": 4,
 "nbformat_minor": 2
}
